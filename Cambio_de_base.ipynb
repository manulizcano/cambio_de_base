{
  "nbformat": 4,
  "nbformat_minor": 0,
  "metadata": {
    "colab": {
      "provenance": [],
      "collapsed_sections": [
        "DnwZdXUTPIMC",
        "wcJ7yGXzQ-K2",
        "ZfX5yWhjbKYA"
      ]
    },
    "kernelspec": {
      "name": "python3",
      "display_name": "Python 3"
    },
    "language_info": {
      "name": "python"
    }
  },
  "cells": [
    {
      "cell_type": "markdown",
      "source": [
        "# **Mini introducción a python.**\n",
        "\n",
        "\n",
        "\n"
      ],
      "metadata": {
        "id": "DnwZdXUTPIMC"
      }
    },
    {
      "cell_type": "markdown",
      "source": [
        "## Tipos de datos básicos y variables."
      ],
      "metadata": {
        "id": "wcJ7yGXzQ-K2"
      }
    },
    {
      "cell_type": "markdown",
      "source": [
        "En la parte de \"números\" tenemos enteros, float (\"reales\") y complejos. Para definir una variable en Python lo único que tenemos que hacer es igualar una letro o palabra a un tipo de dato con el símbolo =. Se recomienda empezar las variables con letras minúsculas y no pueden haber espacios(Es usual cambiar los espacios por _ ). Pueden tener números, pero no al principio"
      ],
      "metadata": {
        "id": "oU3dgClrSdKR"
      }
    },
    {
      "cell_type": "code",
      "execution_count": null,
      "metadata": {
        "id": "wlPHKaZgOHV9"
      },
      "outputs": [],
      "source": [
        "a=1\n",
        "b=2\n",
        "c = a + b"
      ]
    },
    {
      "cell_type": "code",
      "source": [
        "print(c)"
      ],
      "metadata": {
        "colab": {
          "base_uri": "https://localhost:8080/"
        },
        "id": "_6yvxQPQRmLE",
        "outputId": "73aab5e1-5757-49a4-893c-43903bcc77ec"
      },
      "execution_count": null,
      "outputs": [
        {
          "output_type": "stream",
          "name": "stdout",
          "text": [
            "3\n"
          ]
        }
      ]
    },
    {
      "cell_type": "code",
      "source": [
        "a = 4\n",
        "b = 7\n",
        "c = a * b\n",
        "print(c)"
      ],
      "metadata": {
        "colab": {
          "base_uri": "https://localhost:8080/"
        },
        "id": "f0W6eTWHRwcT",
        "outputId": "47392985-2552-44a1-cbf6-d6234b1436cf"
      },
      "execution_count": null,
      "outputs": [
        {
          "output_type": "stream",
          "name": "stdout",
          "text": [
            "28\n"
          ]
        }
      ]
    },
    {
      "cell_type": "code",
      "source": [
        "a/b"
      ],
      "metadata": {
        "colab": {
          "base_uri": "https://localhost:8080/"
        },
        "id": "m0AscF_gTrgz",
        "outputId": "4bff6264-4afa-48a5-c973-8496f16d4c47"
      },
      "execution_count": null,
      "outputs": [
        {
          "output_type": "execute_result",
          "data": {
            "text/plain": [
              "0.5714285714285714"
            ]
          },
          "metadata": {},
          "execution_count": 4
        }
      ]
    },
    {
      "cell_type": "code",
      "source": [
        "2**5"
      ],
      "metadata": {
        "colab": {
          "base_uri": "https://localhost:8080/"
        },
        "id": "D_GMQ5soUSBG",
        "outputId": "82c21b9e-8836-4720-f9f7-9f88719d7eab"
      },
      "execution_count": null,
      "outputs": [
        {
          "output_type": "execute_result",
          "data": {
            "text/plain": [
              "32"
            ]
          },
          "metadata": {},
          "execution_count": 5
        }
      ]
    },
    {
      "cell_type": "code",
      "source": [
        "x = 5\n",
        "x += 7\n",
        "x"
      ],
      "metadata": {
        "colab": {
          "base_uri": "https://localhost:8080/"
        },
        "id": "JvVTtqi_gMOZ",
        "outputId": "a0004595-ef86-49a5-c981-d3d847eb3fb8"
      },
      "execution_count": null,
      "outputs": [
        {
          "output_type": "execute_result",
          "data": {
            "text/plain": [
              "12"
            ]
          },
          "metadata": {},
          "execution_count": 6
        }
      ]
    },
    {
      "cell_type": "code",
      "source": [
        "x = 1 + 3j\n",
        "y= 2 - 5j\n",
        "x*y"
      ],
      "metadata": {
        "colab": {
          "base_uri": "https://localhost:8080/"
        },
        "id": "uzA5NH7rTjB3",
        "outputId": "c3102a87-f411-48f2-eb2f-36950e7efc08"
      },
      "execution_count": null,
      "outputs": [
        {
          "output_type": "execute_result",
          "data": {
            "text/plain": [
              "(17+1j)"
            ]
          },
          "metadata": {},
          "execution_count": 7
        }
      ]
    },
    {
      "cell_type": "markdown",
      "source": [
        "Para texto usamos variables del tipo string. Las palabras deben estar entre comillas (simples o dobles, pero iguales)"
      ],
      "metadata": {
        "id": "vGw7AhuGS4Jd"
      }
    },
    {
      "cell_type": "code",
      "source": [
        "a = 'Hola'\n",
        "a"
      ],
      "metadata": {
        "colab": {
          "base_uri": "https://localhost:8080/"
        },
        "id": "d741Yp3iR-hL",
        "outputId": "5748a0ae-9108-42b0-9ddf-0d204dff1a99"
      },
      "execution_count": null,
      "outputs": [
        {
          "output_type": "execute_result",
          "data": {
            "application/vnd.google.colaboratory.intrinsic+json": {
              "type": "string"
            },
            "text/plain": [
              "'Hola'"
            ]
          },
          "metadata": {},
          "execution_count": 8
        }
      ]
    },
    {
      "cell_type": "code",
      "source": [
        "b = \"adios\"\n",
        "b"
      ],
      "metadata": {
        "colab": {
          "base_uri": "https://localhost:8080/"
        },
        "id": "wj-tqpRYTF-G",
        "outputId": "247217d8-186f-4f25-cb35-e76c0fd2f49d"
      },
      "execution_count": null,
      "outputs": [
        {
          "output_type": "execute_result",
          "data": {
            "application/vnd.google.colaboratory.intrinsic+json": {
              "type": "string"
            },
            "text/plain": [
              "'adios'"
            ]
          },
          "metadata": {},
          "execution_count": 9
        }
      ]
    },
    {
      "cell_type": "code",
      "source": [
        "print(a+\" y \"+b)"
      ],
      "metadata": {
        "colab": {
          "base_uri": "https://localhost:8080/"
        },
        "id": "lbgtdDZ_TYTl",
        "outputId": "4edc177b-8278-49ab-d286-be88ba36bfd9"
      },
      "execution_count": null,
      "outputs": [
        {
          "output_type": "stream",
          "name": "stdout",
          "text": [
            "Hola y adios\n"
          ]
        }
      ]
    },
    {
      "cell_type": "markdown",
      "source": [
        "También tenemos booleanos. True y False.\n"
      ],
      "metadata": {
        "id": "iAUqmCJUVBom"
      }
    },
    {
      "cell_type": "code",
      "source": [
        "x = True\n",
        "x"
      ],
      "metadata": {
        "colab": {
          "base_uri": "https://localhost:8080/"
        },
        "id": "i61pDZKbVJER",
        "outputId": "4e46931c-61fd-443f-c42e-f0e2f01567e1"
      },
      "execution_count": null,
      "outputs": [
        {
          "output_type": "execute_result",
          "data": {
            "text/plain": [
              "True"
            ]
          },
          "metadata": {},
          "execution_count": 11
        }
      ]
    },
    {
      "cell_type": "code",
      "source": [
        "y = False\n",
        "y"
      ],
      "metadata": {
        "colab": {
          "base_uri": "https://localhost:8080/"
        },
        "id": "gFL_5ABZVOsg",
        "outputId": "355b32fb-00c3-4ab0-d340-cef9d70db30a"
      },
      "execution_count": null,
      "outputs": [
        {
          "output_type": "execute_result",
          "data": {
            "text/plain": [
              "False"
            ]
          },
          "metadata": {},
          "execution_count": 12
        }
      ]
    },
    {
      "cell_type": "code",
      "source": [
        "1<2"
      ],
      "metadata": {
        "colab": {
          "base_uri": "https://localhost:8080/"
        },
        "id": "wUCPtx5mVcE_",
        "outputId": "8431a316-9a69-4ad3-c8ef-ebc40ea4e8f6"
      },
      "execution_count": null,
      "outputs": [
        {
          "output_type": "execute_result",
          "data": {
            "text/plain": [
              "True"
            ]
          },
          "metadata": {},
          "execution_count": 13
        }
      ]
    },
    {
      "cell_type": "code",
      "source": [
        "1>2"
      ],
      "metadata": {
        "colab": {
          "base_uri": "https://localhost:8080/"
        },
        "id": "UiLeNCaRVfAb",
        "outputId": "360f0bd9-1986-4f9b-abbd-6801f510ccc0"
      },
      "execution_count": null,
      "outputs": [
        {
          "output_type": "execute_result",
          "data": {
            "text/plain": [
              "False"
            ]
          },
          "metadata": {},
          "execution_count": 14
        }
      ]
    },
    {
      "cell_type": "code",
      "source": [
        "1==2"
      ],
      "metadata": {
        "colab": {
          "base_uri": "https://localhost:8080/"
        },
        "id": "REqUAqGeVgAj",
        "outputId": "05d4b783-d692-4f30-9cfa-2b4daa7cf3d0"
      },
      "execution_count": null,
      "outputs": [
        {
          "output_type": "execute_result",
          "data": {
            "text/plain": [
              "False"
            ]
          },
          "metadata": {},
          "execution_count": 15
        }
      ]
    },
    {
      "cell_type": "code",
      "source": [
        "not True"
      ],
      "metadata": {
        "colab": {
          "base_uri": "https://localhost:8080/"
        },
        "id": "XRvMcI1_VjH9",
        "outputId": "97e0ad9a-b9c5-431e-fd64-c2cc19538f2c"
      },
      "execution_count": null,
      "outputs": [
        {
          "output_type": "execute_result",
          "data": {
            "text/plain": [
              "False"
            ]
          },
          "metadata": {},
          "execution_count": 16
        }
      ]
    },
    {
      "cell_type": "code",
      "source": [
        "not False"
      ],
      "metadata": {
        "colab": {
          "base_uri": "https://localhost:8080/"
        },
        "id": "YFd2qe6WVsBX",
        "outputId": "eab97df1-55f1-4587-8db6-1c1f9218db04"
      },
      "execution_count": null,
      "outputs": [
        {
          "output_type": "execute_result",
          "data": {
            "text/plain": [
              "True"
            ]
          },
          "metadata": {},
          "execution_count": 17
        }
      ]
    },
    {
      "cell_type": "markdown",
      "source": [
        "## Conjuntos, listas y diccionarios."
      ],
      "metadata": {
        "id": "FF4yRgu4Vyww"
      }
    },
    {
      "cell_type": "markdown",
      "source": [
        "En python hay basicamente 3 manera fundamentales de guardar informacion. Conjuntos, listas y diccionarios."
      ],
      "metadata": {
        "id": "SqMPeGDdV9JL"
      }
    },
    {
      "cell_type": "markdown",
      "source": [
        "Los conjuntos en python funcionan igual que los conjuntos de teoría de conjuntos. No importa el orden, no se aceptan repeticiones y la notacion es igual que en matemáticas: elementos rodeados de  { } y separar cada dos elementos con una coma."
      ],
      "metadata": {
        "id": "U-saXEinWXN5"
      }
    },
    {
      "cell_type": "code",
      "source": [
        "conjunto_A = {1,2,3}\n",
        "conjunto_A"
      ],
      "metadata": {
        "colab": {
          "base_uri": "https://localhost:8080/"
        },
        "id": "pf_ZmvwYV6c7",
        "outputId": "f35900d1-82f2-4b09-80c1-770be7d49eac"
      },
      "execution_count": null,
      "outputs": [
        {
          "output_type": "execute_result",
          "data": {
            "text/plain": [
              "{1, 2, 3}"
            ]
          },
          "metadata": {},
          "execution_count": 18
        }
      ]
    },
    {
      "cell_type": "code",
      "source": [
        "conjunto_B= {2,3,4,4}\n",
        "conjunto_B"
      ],
      "metadata": {
        "colab": {
          "base_uri": "https://localhost:8080/"
        },
        "id": "uvM6JTnaW7mA",
        "outputId": "0bab2d61-7e44-4df6-9956-6161c0fa613d"
      },
      "execution_count": null,
      "outputs": [
        {
          "output_type": "execute_result",
          "data": {
            "text/plain": [
              "{2, 3, 4}"
            ]
          },
          "metadata": {},
          "execution_count": 19
        }
      ]
    },
    {
      "cell_type": "code",
      "source": [
        "conjunto_A.intersection(conjunto_B)"
      ],
      "metadata": {
        "colab": {
          "base_uri": "https://localhost:8080/"
        },
        "id": "SzlNNuz_W99e",
        "outputId": "0fbd4d9f-6f64-4e8d-9ec0-24b56a58fcf1"
      },
      "execution_count": null,
      "outputs": [
        {
          "output_type": "execute_result",
          "data": {
            "text/plain": [
              "{2, 3}"
            ]
          },
          "metadata": {},
          "execution_count": 20
        }
      ]
    },
    {
      "cell_type": "code",
      "source": [
        "conjunto_A.union(conjunto_B)"
      ],
      "metadata": {
        "colab": {
          "base_uri": "https://localhost:8080/"
        },
        "id": "QIA6tEwcXJ-R",
        "outputId": "6f0672c7-fdbd-4db3-ec2e-0abcf9157d59"
      },
      "execution_count": null,
      "outputs": [
        {
          "output_type": "execute_result",
          "data": {
            "text/plain": [
              "{1, 2, 3, 4}"
            ]
          },
          "metadata": {},
          "execution_count": 21
        }
      ]
    },
    {
      "cell_type": "code",
      "source": [
        "conjunto_A.difference(conjunto_B)"
      ],
      "metadata": {
        "colab": {
          "base_uri": "https://localhost:8080/"
        },
        "id": "QIEIDuaIXVGQ",
        "outputId": "b5e5442c-a906-4581-abd1-36c903b4e0c8"
      },
      "execution_count": null,
      "outputs": [
        {
          "output_type": "execute_result",
          "data": {
            "text/plain": [
              "{1}"
            ]
          },
          "metadata": {},
          "execution_count": 22
        }
      ]
    },
    {
      "cell_type": "code",
      "source": [
        "1000 in conjunto_A"
      ],
      "metadata": {
        "colab": {
          "base_uri": "https://localhost:8080/"
        },
        "id": "eK8-MVNBYcUt",
        "outputId": "136a5b84-de51-4708-e4d6-b4b0486068e6"
      },
      "execution_count": null,
      "outputs": [
        {
          "output_type": "execute_result",
          "data": {
            "text/plain": [
              "False"
            ]
          },
          "metadata": {},
          "execution_count": 23
        }
      ]
    },
    {
      "cell_type": "markdown",
      "source": [
        "En las listas si importa el orden y se pueden repetir los elementos. Para declararlo hay que rodear los elementos con [  ] y separar cada dos elementos por una coma."
      ],
      "metadata": {
        "id": "eRi1w8nuXk6R"
      }
    },
    {
      "cell_type": "code",
      "source": [
        "lista = [1,2, 2,3, \"Hola\"]\n",
        "lista"
      ],
      "metadata": {
        "colab": {
          "base_uri": "https://localhost:8080/"
        },
        "id": "i5HyC4uOYND2",
        "outputId": "841484c1-651f-41dd-b20a-00faee08b565"
      },
      "execution_count": null,
      "outputs": [
        {
          "output_type": "execute_result",
          "data": {
            "text/plain": [
              "[1, 2, 2, 3, 'Hola']"
            ]
          },
          "metadata": {},
          "execution_count": 24
        }
      ]
    },
    {
      "cell_type": "code",
      "source": [
        "lista[3]"
      ],
      "metadata": {
        "colab": {
          "base_uri": "https://localhost:8080/"
        },
        "id": "Syy7n8KsYU0f",
        "outputId": "ea183e5d-e240-48bd-bbae-cb396605866b"
      },
      "execution_count": null,
      "outputs": [
        {
          "output_type": "execute_result",
          "data": {
            "text/plain": [
              "3"
            ]
          },
          "metadata": {},
          "execution_count": 25
        }
      ]
    },
    {
      "cell_type": "code",
      "source": [
        "lista.append(\"Nuevo elemento\")\n",
        "\n",
        "lista"
      ],
      "metadata": {
        "colab": {
          "base_uri": "https://localhost:8080/"
        },
        "id": "TTc8H7EWYt55",
        "outputId": "1e3b0943-8302-46c7-cd2e-c3bc0f09428e"
      },
      "execution_count": null,
      "outputs": [
        {
          "output_type": "execute_result",
          "data": {
            "text/plain": [
              "[1, 2, 2, 3, 'Hola', 'Nuevo elemento']"
            ]
          },
          "metadata": {},
          "execution_count": 26
        }
      ]
    },
    {
      "cell_type": "markdown",
      "source": [
        "Esta es una linea de texto."
      ],
      "metadata": {
        "id": "j7XEdyyn-UuH"
      }
    },
    {
      "cell_type": "code",
      "source": [
        "lista.remove(2)\n",
        "lista"
      ],
      "metadata": {
        "colab": {
          "base_uri": "https://localhost:8080/"
        },
        "id": "Pc9CWALTY4H-",
        "outputId": "a4f9d916-0321-4861-b89d-f195a80128a5"
      },
      "execution_count": null,
      "outputs": [
        {
          "output_type": "execute_result",
          "data": {
            "text/plain": [
              "[1, 2, 3, 'Hola', 'Nuevo elemento']"
            ]
          },
          "metadata": {},
          "execution_count": 27
        }
      ]
    },
    {
      "cell_type": "code",
      "source": [
        "lista[2] = \"Adios\"\n",
        "lista"
      ],
      "metadata": {
        "colab": {
          "base_uri": "https://localhost:8080/"
        },
        "id": "153ioSx6ZMZx",
        "outputId": "ce203f00-f35d-421a-b23c-9ebf183711ce"
      },
      "execution_count": null,
      "outputs": [
        {
          "output_type": "execute_result",
          "data": {
            "text/plain": [
              "[1, 2, 'Adios', 'Hola', 'Nuevo elemento']"
            ]
          },
          "metadata": {},
          "execution_count": 28
        }
      ]
    },
    {
      "cell_type": "code",
      "source": [
        "lista_de_listas = [[1,2,3,5],\n",
        "                   [2,3,4],\n",
        "                   [5,6,7]]\n",
        "lista_de_listas"
      ],
      "metadata": {
        "colab": {
          "base_uri": "https://localhost:8080/"
        },
        "id": "qye3JdB-ZT6E",
        "outputId": "41aa9df4-ec1b-43b0-dc91-a4ed6afd242b"
      },
      "execution_count": null,
      "outputs": [
        {
          "output_type": "execute_result",
          "data": {
            "text/plain": [
              "[[1, 2, 3, 5], [2, 3, 4], [5, 6, 7]]"
            ]
          },
          "metadata": {},
          "execution_count": 29
        }
      ]
    },
    {
      "cell_type": "code",
      "source": [
        "lista_de_listas[2][0]"
      ],
      "metadata": {
        "colab": {
          "base_uri": "https://localhost:8080/"
        },
        "id": "cxHGlzb__B5U",
        "outputId": "cbc9bf58-cdd1-46de-c265-8591e6c54a76"
      },
      "execution_count": null,
      "outputs": [
        {
          "output_type": "execute_result",
          "data": {
            "text/plain": [
              "5"
            ]
          },
          "metadata": {},
          "execution_count": 30
        }
      ]
    },
    {
      "cell_type": "code",
      "source": [
        "len(lista_de_listas[0])"
      ],
      "metadata": {
        "colab": {
          "base_uri": "https://localhost:8080/"
        },
        "id": "IHkg20IjsN0z",
        "outputId": "bbf16c76-6814-42e6-984a-e03e0d13c04e"
      },
      "execution_count": null,
      "outputs": [
        {
          "output_type": "execute_result",
          "data": {
            "text/plain": [
              "4"
            ]
          },
          "metadata": {},
          "execution_count": 31
        }
      ]
    },
    {
      "cell_type": "markdown",
      "source": [
        "Un diccionario es básicamente lo mismo que una lista pero en lugar de guardar los elementos con índices númericos lo puedes guardar con una llave distinta, que puede ser cualquier otra cosa."
      ],
      "metadata": {
        "id": "fWb-D5MsZ_qQ"
      }
    },
    {
      "cell_type": "code",
      "source": [
        "dicc = { \"llave_1\": 234, \"llave_2\": \"Hola\", 2: \"Mi llave es el 2\"}\n",
        "dicc"
      ],
      "metadata": {
        "colab": {
          "base_uri": "https://localhost:8080/"
        },
        "id": "aaxoP0G5aTU2",
        "outputId": "e7031940-7706-4db5-fcf3-d8fc3443bd1d"
      },
      "execution_count": null,
      "outputs": [
        {
          "output_type": "execute_result",
          "data": {
            "text/plain": [
              "{2: 'Mi llave es el 2', 'llave_1': 234, 'llave_2': 'Hola'}"
            ]
          },
          "metadata": {},
          "execution_count": 32
        }
      ]
    },
    {
      "cell_type": "code",
      "source": [
        "dicc[\"llave_1\"]"
      ],
      "metadata": {
        "colab": {
          "base_uri": "https://localhost:8080/"
        },
        "id": "twGcDEImapry",
        "outputId": "a98ea957-1418-49b4-bf43-5dbbc57ba59a"
      },
      "execution_count": null,
      "outputs": [
        {
          "output_type": "execute_result",
          "data": {
            "text/plain": [
              "234"
            ]
          },
          "metadata": {},
          "execution_count": 33
        }
      ]
    },
    {
      "cell_type": "code",
      "source": [
        "dicc[\"llave_2\"]"
      ],
      "metadata": {
        "colab": {
          "base_uri": "https://localhost:8080/"
        },
        "id": "Iv9d13HCatF8",
        "outputId": "cc5a7b55-74a7-410c-f603-16820ed1e401"
      },
      "execution_count": null,
      "outputs": [
        {
          "output_type": "execute_result",
          "data": {
            "application/vnd.google.colaboratory.intrinsic+json": {
              "type": "string"
            },
            "text/plain": [
              "'Hola'"
            ]
          },
          "metadata": {},
          "execution_count": 34
        }
      ]
    },
    {
      "cell_type": "code",
      "source": [
        "dicc[2]"
      ],
      "metadata": {
        "colab": {
          "base_uri": "https://localhost:8080/"
        },
        "id": "smEbxvvpax_M",
        "outputId": "11d92071-e6d7-4b1e-fa29-34c69daa478f"
      },
      "execution_count": null,
      "outputs": [
        {
          "output_type": "execute_result",
          "data": {
            "application/vnd.google.colaboratory.intrinsic+json": {
              "type": "string"
            },
            "text/plain": [
              "'Mi llave es el 2'"
            ]
          },
          "metadata": {},
          "execution_count": 35
        }
      ]
    },
    {
      "cell_type": "code",
      "source": [
        "dicc[\"llave_1\"] = 'bla, bl2'\n",
        "dicc"
      ],
      "metadata": {
        "colab": {
          "base_uri": "https://localhost:8080/"
        },
        "id": "JkylBZ1Ra10s",
        "outputId": "cb09b95a-120b-4924-9737-f56f63f12abe"
      },
      "execution_count": null,
      "outputs": [
        {
          "output_type": "execute_result",
          "data": {
            "text/plain": [
              "{2: 'Mi llave es el 2', 'llave_1': 'bla, bl2', 'llave_2': 'Hola'}"
            ]
          },
          "metadata": {},
          "execution_count": 36
        }
      ]
    },
    {
      "cell_type": "markdown",
      "source": [
        "## if, elif, else, for, while."
      ],
      "metadata": {
        "id": "ZfX5yWhjbKYA"
      }
    },
    {
      "cell_type": "markdown",
      "source": [
        "Lo más sencillo para manejar el flujo de la informacion es usar es usar if, elif, else"
      ],
      "metadata": {
        "id": "-GeH0rJzb3cB"
      }
    },
    {
      "cell_type": "code",
      "source": [
        "x = 1.5\n",
        "\n",
        "if (x < 1):\n",
        "  print(\"Tu número es menor a 1\")\n",
        "  print(\"Hola\")\n",
        "  print(\"Adios\")\n",
        "\n",
        "\n",
        "\n",
        "elif (x==1):\n",
        "  print(\"Tu número es un 1\")\n",
        "elif (x ==2):\n",
        "  print(\"Tu número es un 2\")\n",
        "else:\n",
        "  print(\"Tu número es mayor a 2 o no es un entero\")\n",
        "\n"
      ],
      "metadata": {
        "colab": {
          "base_uri": "https://localhost:8080/"
        },
        "id": "Sc96FFpIb3Hx",
        "outputId": "af06af2e-2253-49bc-89f6-b23bb5d2da52"
      },
      "execution_count": null,
      "outputs": [
        {
          "output_type": "stream",
          "name": "stdout",
          "text": [
            "Tu número es mayor a 2 o no es un entero\n"
          ]
        }
      ]
    },
    {
      "cell_type": "markdown",
      "source": [
        "Para recorrer listas, conjuntos o hacer procesos repetitivos se usan ciclos. Los más usandos son for, forech, while."
      ],
      "metadata": {
        "id": "A-mWoBpGed3u"
      }
    },
    {
      "cell_type": "code",
      "source": [
        "range(10)"
      ],
      "metadata": {
        "colab": {
          "base_uri": "https://localhost:8080/"
        },
        "id": "UGEbRuv1AllD",
        "outputId": "627be863-5937-43e6-8129-eda11c8c31c5"
      },
      "execution_count": null,
      "outputs": [
        {
          "output_type": "execute_result",
          "data": {
            "text/plain": [
              "range(0, 10)"
            ]
          },
          "metadata": {},
          "execution_count": 38
        }
      ]
    },
    {
      "cell_type": "code",
      "source": [
        "for i in range(7):\n",
        "  print(i)"
      ],
      "metadata": {
        "colab": {
          "base_uri": "https://localhost:8080/"
        },
        "id": "MYPByx_PewJC",
        "outputId": "0b53f7e8-dac3-42ff-d517-c1e64a605c59"
      },
      "execution_count": null,
      "outputs": [
        {
          "output_type": "stream",
          "name": "stdout",
          "text": [
            "0\n",
            "1\n",
            "2\n",
            "3\n",
            "4\n",
            "5\n",
            "6\n"
          ]
        }
      ]
    },
    {
      "cell_type": "code",
      "source": [
        "for i in range(5,10):\n",
        "  print(i)"
      ],
      "metadata": {
        "colab": {
          "base_uri": "https://localhost:8080/"
        },
        "id": "7ivmwFlPffkw",
        "outputId": "3d63b7c4-2c96-4e69-b465-dece973d7c40"
      },
      "execution_count": null,
      "outputs": [
        {
          "output_type": "stream",
          "name": "stdout",
          "text": [
            "5\n",
            "6\n",
            "7\n",
            "8\n",
            "9\n"
          ]
        }
      ]
    },
    {
      "cell_type": "code",
      "source": [
        "for i in range(0,10):\n",
        "  print(10-1-i)"
      ],
      "metadata": {
        "colab": {
          "base_uri": "https://localhost:8080/"
        },
        "id": "tP7PmWLIiFyF",
        "outputId": "7144a5da-8b22-4b1b-a1e5-bf39954043ed"
      },
      "execution_count": null,
      "outputs": [
        {
          "output_type": "stream",
          "name": "stdout",
          "text": [
            "9\n",
            "8\n",
            "7\n",
            "6\n",
            "5\n",
            "4\n",
            "3\n",
            "2\n",
            "1\n",
            "0\n"
          ]
        }
      ]
    },
    {
      "cell_type": "code",
      "source": [
        "fruits = [\"apple\", \"banana\", \"cherry\"]\n",
        "for x in fruits:\n",
        "  print(x)"
      ],
      "metadata": {
        "colab": {
          "base_uri": "https://localhost:8080/"
        },
        "id": "D1Yo81MifvkU",
        "outputId": "3190caca-d53d-4b48-d718-4c08d94b390b"
      },
      "execution_count": null,
      "outputs": [
        {
          "output_type": "stream",
          "name": "stdout",
          "text": [
            "apple\n",
            "banana\n",
            "cherry\n"
          ]
        }
      ]
    },
    {
      "cell_type": "code",
      "source": [
        "colores = {\"rojo\", \"azul\", \"verde\", \"verde\"}\n",
        "for color in colores:\n",
        "  print(color)"
      ],
      "metadata": {
        "colab": {
          "base_uri": "https://localhost:8080/"
        },
        "id": "MjoDk3n6f3gQ",
        "outputId": "1b4bc725-7a60-4367-fa4f-240f05a5e497"
      },
      "execution_count": null,
      "outputs": [
        {
          "output_type": "stream",
          "name": "stdout",
          "text": [
            "azul\n",
            "rojo\n",
            "verde\n"
          ]
        }
      ]
    },
    {
      "cell_type": "code",
      "source": [
        "contador = 15\n",
        "while (contador >0):\n",
        "  print(\"El contador va en:\", contador)\n",
        "  contador -=3"
      ],
      "metadata": {
        "colab": {
          "base_uri": "https://localhost:8080/"
        },
        "id": "h2_DShCNiRVq",
        "outputId": "47b346fc-fa5a-4b96-82b8-c166fa447d2c"
      },
      "execution_count": null,
      "outputs": [
        {
          "output_type": "stream",
          "name": "stdout",
          "text": [
            "El contador va en: 15\n",
            "El contador va en: 12\n",
            "El contador va en: 9\n",
            "El contador va en: 6\n",
            "El contador va en: 3\n"
          ]
        }
      ]
    },
    {
      "cell_type": "markdown",
      "source": [
        "## Funciones"
      ],
      "metadata": {
        "id": "92UGvhIhiqDv"
      }
    },
    {
      "cell_type": "markdown",
      "source": [
        "Para hacer funciones lo único que tenemos que hacer es usar la palabra def  seguida del nombre de la funcion con sus parametros entre (  ). Le decimos que hacer a la funcion en el bloque identado y si queremos que regrese algo la funcion en lugar de solo hacer cosas ponemos la palabra \"return\"."
      ],
      "metadata": {
        "id": "m-a-JOCeiyql"
      }
    },
    {
      "cell_type": "code",
      "source": [
        "def sumar(a,b):\n",
        "  c = a+b\n",
        "  return c\n",
        "\n",
        "sumar(1,5)"
      ],
      "metadata": {
        "colab": {
          "base_uri": "https://localhost:8080/"
        },
        "id": "utzQH72Riswi",
        "outputId": "9b422295-fce3-42fe-9d13-4db901b3fe33"
      },
      "execution_count": null,
      "outputs": [
        {
          "output_type": "execute_result",
          "data": {
            "text/plain": [
              "6"
            ]
          },
          "metadata": {},
          "execution_count": 45
        }
      ]
    },
    {
      "cell_type": "code",
      "source": [
        "mascotas = [\"perro\", \"gato\", \"pez\"]\n",
        "\n",
        "def agregar_ajolotito(lista):\n",
        "  lista.append(\"ajolotito\")\n",
        "\n",
        "\n",
        "agregar_ajolotito(mascotas)\n",
        "agregar_ajolotito(mascotas)\n",
        "agregar_ajolotito(mascotas)\n",
        "mascotas"
      ],
      "metadata": {
        "colab": {
          "base_uri": "https://localhost:8080/"
        },
        "id": "2aOLq6oHkFdU",
        "outputId": "42e3252d-4fb2-4806-de29-0be1c830dd88"
      },
      "execution_count": null,
      "outputs": [
        {
          "output_type": "execute_result",
          "data": {
            "text/plain": [
              "['perro', 'gato', 'pez', 'ajolotito', 'ajolotito', 'ajolotito']"
            ]
          },
          "metadata": {},
          "execution_count": 46
        }
      ]
    },
    {
      "cell_type": "code",
      "source": [
        "def suma_y_resta(a,b):\n",
        "  suma = a+b\n",
        "  resta = a-b\n",
        "  return suma, resta\n",
        "\n",
        "suma_y_resta(1,5)"
      ],
      "metadata": {
        "colab": {
          "base_uri": "https://localhost:8080/"
        },
        "id": "W16zRXWkorHi",
        "outputId": "da82d35b-6c9e-4b2f-8884-fdbb2e3f874c"
      },
      "execution_count": null,
      "outputs": [
        {
          "output_type": "execute_result",
          "data": {
            "text/plain": [
              "(6, -4)"
            ]
          },
          "metadata": {},
          "execution_count": 47
        }
      ]
    },
    {
      "cell_type": "code",
      "source": [
        "suma_y_resta(1,5)[1]"
      ],
      "metadata": {
        "colab": {
          "base_uri": "https://localhost:8080/"
        },
        "id": "EL4vAXAjpFE6",
        "outputId": "cc43536e-9d7b-48bc-e861-08d9c0954c0e"
      },
      "execution_count": null,
      "outputs": [
        {
          "output_type": "execute_result",
          "data": {
            "text/plain": [
              "-4"
            ]
          },
          "metadata": {},
          "execution_count": 48
        }
      ]
    },
    {
      "cell_type": "markdown",
      "source": [
        "#Cambiar de base"
      ],
      "metadata": {
        "id": "QgOX0K4AlsHo"
      }
    },
    {
      "cell_type": "markdown",
      "source": [
        "Una operación muuuuuy útil es usar módulos. El operador % nos devuelve el residuo de un número. Es decir, si a%b nos devuelve el residuo de dividir a entre b."
      ],
      "metadata": {
        "id": "3vmrmgs6mFQj"
      }
    },
    {
      "cell_type": "code",
      "source": [
        "19 % 6"
      ],
      "metadata": {
        "colab": {
          "base_uri": "https://localhost:8080/"
        },
        "id": "0N1jMhcqoC9K",
        "outputId": "ec119021-3ddc-4597-d847-4a1f3e94447f"
      },
      "execution_count": null,
      "outputs": [
        {
          "output_type": "execute_result",
          "data": {
            "text/plain": [
              "1"
            ]
          },
          "metadata": {},
          "execution_count": 49
        }
      ]
    },
    {
      "cell_type": "code",
      "source": [
        "def obtener_cociente_y_residuo(a,b):\n",
        "  residuo = a%b\n",
        "  cociente = (a-residuo)/b\n",
        "  cociente = int(cociente)\n",
        "  return cociente, residuo"
      ],
      "metadata": {
        "id": "Z4xf1OGvphvU"
      },
      "execution_count": null,
      "outputs": []
    },
    {
      "cell_type": "code",
      "source": [
        "obtener_cociente_y_residuo(11,4)"
      ],
      "metadata": {
        "colab": {
          "base_uri": "https://localhost:8080/"
        },
        "id": "roYa_H1Ip5Kw",
        "outputId": "c0c27b99-6c09-4c52-b73a-9fdacb186219"
      },
      "execution_count": null,
      "outputs": [
        {
          "output_type": "execute_result",
          "data": {
            "text/plain": [
              "(2, 3)"
            ]
          },
          "metadata": {},
          "execution_count": 51
        }
      ]
    },
    {
      "cell_type": "code",
      "source": [
        "def revertir_lista(lista):\n",
        "  nueva_lista = []\n",
        "  for i in range(len(lista)):\n",
        "    nueva_lista.append(lista[len(lista)-1-i])\n",
        "  return nueva_lista"
      ],
      "metadata": {
        "id": "2MfNQRg7so3Y"
      },
      "execution_count": null,
      "outputs": []
    },
    {
      "cell_type": "code",
      "source": [
        "lista_prueba = [\"a\", \"b\", \"c\"]\n",
        "revertir_lista(lista_prueba)"
      ],
      "metadata": {
        "colab": {
          "base_uri": "https://localhost:8080/"
        },
        "id": "mjATHpzIEZoU",
        "outputId": "3b0b07b0-382d-4af9-d42f-7716b7a80bed"
      },
      "execution_count": null,
      "outputs": [
        {
          "output_type": "execute_result",
          "data": {
            "text/plain": [
              "['c', 'b', 'a']"
            ]
          },
          "metadata": {},
          "execution_count": 53
        }
      ]
    },
    {
      "cell_type": "code",
      "source": [
        "def cambiar_de_base_10_a_base_n_en_lista(n, x):\n",
        "  lista_de_numeros = []\n",
        "  while(x>0):\n",
        "    cociente, residuo = obtener_cociente_y_residuo(x,n)\n",
        "    x = cociente\n",
        "    lista_de_numeros.append(residuo)\n",
        "  return revertir_lista(lista_de_numeros)\n",
        "\n",
        "\n",
        "cambiar_de_base_10_a_base_n_en_lista(2,324\n",
        "                                     )"
      ],
      "metadata": {
        "colab": {
          "base_uri": "https://localhost:8080/"
        },
        "id": "tB8jr8cOlzJe",
        "outputId": "2e219921-0c74-486c-94d6-55d3b3754be3"
      },
      "execution_count": null,
      "outputs": [
        {
          "output_type": "execute_result",
          "data": {
            "text/plain": [
              "[1, 0, 1, 0, 0, 0, 1, 0, 0]"
            ]
          },
          "metadata": {},
          "execution_count": 72
        }
      ]
    },
    {
      "cell_type": "code",
      "source": [
        "def cambiar_de_base_10_a_base_n_en_numero(n, x):\n",
        "  lista_de_numeros = cambiar_de_base_10_a_base_n_en_lista(n,x)\n",
        "  solucion = \"\"\n",
        "  for numero in lista_de_numeros:\n",
        "    solucion += str(numero)\n",
        "  return int(solucion)\n",
        "\n",
        "cambiar_de_base_10_a_base_n_en_numero(2,324)"
      ],
      "metadata": {
        "colab": {
          "base_uri": "https://localhost:8080/"
        },
        "id": "9DoPoGhhuBgu",
        "outputId": "9ff9434e-4f90-43e1-9e3e-c9e757e861da"
      },
      "execution_count": null,
      "outputs": [
        {
          "output_type": "execute_result",
          "data": {
            "text/plain": [
              "101000100"
            ]
          },
          "metadata": {},
          "execution_count": 69
        }
      ]
    },
    {
      "cell_type": "code",
      "source": [
        "def cambiar_de_base_n_a_base_10_en_numero(n, lista_de_numeros):\n",
        "  lista_revertida = revertir_lista(lista_de_numeros)\n",
        "  solucion = 0\n",
        "  for i in range(len(lista_revertida)):\n",
        "    solucion += lista_revertida[i]*(n**i)\n",
        "  return solucion\n",
        "\n",
        "cambiar_de_base_n_a_base_10_en_numero(5, [3,2,4])"
      ],
      "metadata": {
        "colab": {
          "base_uri": "https://localhost:8080/"
        },
        "id": "8tCVIxtPvxzO",
        "outputId": "ba0f8ce6-a544-4a97-eac6-311b60a8f44f"
      },
      "execution_count": null,
      "outputs": [
        {
          "output_type": "execute_result",
          "data": {
            "text/plain": [
              "89"
            ]
          },
          "metadata": {},
          "execution_count": 65
        }
      ]
    },
    {
      "cell_type": "code",
      "source": [
        "def cambiar_de_base_n_a_m(n,m, lista_numeros):\n",
        "  n_prov = cambiar_de_base_n_a_base_10_en_numero(n,lista_numeros)\n",
        "  return cambiar_de_base_10_a_base_n_en_lista(m,n_prov)"
      ],
      "metadata": {
        "id": "xH0qJ3NMHItp"
      },
      "execution_count": null,
      "outputs": []
    },
    {
      "cell_type": "code",
      "source": [
        "cambiar_de_base_n_a_m(3, 5,[1,0,0,2,1,1,0,2,2,2,1,2])"
      ],
      "metadata": {
        "colab": {
          "base_uri": "https://localhost:8080/"
        },
        "id": "OzHcT9GaHopt",
        "outputId": "65360ba2-5eea-4107-826a-473ece9499f7"
      },
      "execution_count": null,
      "outputs": [
        {
          "output_type": "execute_result",
          "data": {
            "text/plain": [
              "[2, 2, 1, 4, 2, 1, 4, 4]"
            ]
          },
          "metadata": {},
          "execution_count": 61
        }
      ]
    },
    {
      "cell_type": "code",
      "source": [
        "lista_de_pares = []\n",
        "for i in range(100):\n",
        "  lista_de_pares.append(2*i)\n"
      ],
      "metadata": {
        "id": "v3i2QXOCTTRs"
      },
      "execution_count": null,
      "outputs": []
    },
    {
      "cell_type": "code",
      "source": [
        "for x in lista_de_pares:\n",
        "  print(x, cambiar_de_base_10_a_base_n_en_lista(3,x))"
      ],
      "metadata": {
        "colab": {
          "base_uri": "https://localhost:8080/"
        },
        "id": "XjFEOfUzTrp7",
        "outputId": "b0dc8f4a-032d-41d6-ede2-678255edb208"
      },
      "execution_count": null,
      "outputs": [
        {
          "output_type": "stream",
          "name": "stdout",
          "text": [
            "0 []\n",
            "2 [2]\n",
            "4 [1, 1]\n",
            "6 [2, 0]\n",
            "8 [2, 2]\n",
            "10 [1, 0, 1]\n",
            "12 [1, 1, 0]\n",
            "14 [1, 1, 2]\n",
            "16 [1, 2, 1]\n",
            "18 [2, 0, 0]\n",
            "20 [2, 0, 2]\n",
            "22 [2, 1, 1]\n",
            "24 [2, 2, 0]\n",
            "26 [2, 2, 2]\n",
            "28 [1, 0, 0, 1]\n",
            "30 [1, 0, 1, 0]\n",
            "32 [1, 0, 1, 2]\n",
            "34 [1, 0, 2, 1]\n",
            "36 [1, 1, 0, 0]\n",
            "38 [1, 1, 0, 2]\n",
            "40 [1, 1, 1, 1]\n",
            "42 [1, 1, 2, 0]\n",
            "44 [1, 1, 2, 2]\n",
            "46 [1, 2, 0, 1]\n",
            "48 [1, 2, 1, 0]\n",
            "50 [1, 2, 1, 2]\n",
            "52 [1, 2, 2, 1]\n",
            "54 [2, 0, 0, 0]\n",
            "56 [2, 0, 0, 2]\n",
            "58 [2, 0, 1, 1]\n",
            "60 [2, 0, 2, 0]\n",
            "62 [2, 0, 2, 2]\n",
            "64 [2, 1, 0, 1]\n",
            "66 [2, 1, 1, 0]\n",
            "68 [2, 1, 1, 2]\n",
            "70 [2, 1, 2, 1]\n",
            "72 [2, 2, 0, 0]\n",
            "74 [2, 2, 0, 2]\n",
            "76 [2, 2, 1, 1]\n",
            "78 [2, 2, 2, 0]\n",
            "80 [2, 2, 2, 2]\n",
            "82 [1, 0, 0, 0, 1]\n",
            "84 [1, 0, 0, 1, 0]\n",
            "86 [1, 0, 0, 1, 2]\n",
            "88 [1, 0, 0, 2, 1]\n",
            "90 [1, 0, 1, 0, 0]\n",
            "92 [1, 0, 1, 0, 2]\n",
            "94 [1, 0, 1, 1, 1]\n",
            "96 [1, 0, 1, 2, 0]\n",
            "98 [1, 0, 1, 2, 2]\n",
            "100 [1, 0, 2, 0, 1]\n",
            "102 [1, 0, 2, 1, 0]\n",
            "104 [1, 0, 2, 1, 2]\n",
            "106 [1, 0, 2, 2, 1]\n",
            "108 [1, 1, 0, 0, 0]\n",
            "110 [1, 1, 0, 0, 2]\n",
            "112 [1, 1, 0, 1, 1]\n",
            "114 [1, 1, 0, 2, 0]\n",
            "116 [1, 1, 0, 2, 2]\n",
            "118 [1, 1, 1, 0, 1]\n",
            "120 [1, 1, 1, 1, 0]\n",
            "122 [1, 1, 1, 1, 2]\n",
            "124 [1, 1, 1, 2, 1]\n",
            "126 [1, 1, 2, 0, 0]\n",
            "128 [1, 1, 2, 0, 2]\n",
            "130 [1, 1, 2, 1, 1]\n",
            "132 [1, 1, 2, 2, 0]\n",
            "134 [1, 1, 2, 2, 2]\n",
            "136 [1, 2, 0, 0, 1]\n",
            "138 [1, 2, 0, 1, 0]\n",
            "140 [1, 2, 0, 1, 2]\n",
            "142 [1, 2, 0, 2, 1]\n",
            "144 [1, 2, 1, 0, 0]\n",
            "146 [1, 2, 1, 0, 2]\n",
            "148 [1, 2, 1, 1, 1]\n",
            "150 [1, 2, 1, 2, 0]\n",
            "152 [1, 2, 1, 2, 2]\n",
            "154 [1, 2, 2, 0, 1]\n",
            "156 [1, 2, 2, 1, 0]\n",
            "158 [1, 2, 2, 1, 2]\n",
            "160 [1, 2, 2, 2, 1]\n",
            "162 [2, 0, 0, 0, 0]\n",
            "164 [2, 0, 0, 0, 2]\n",
            "166 [2, 0, 0, 1, 1]\n",
            "168 [2, 0, 0, 2, 0]\n",
            "170 [2, 0, 0, 2, 2]\n",
            "172 [2, 0, 1, 0, 1]\n",
            "174 [2, 0, 1, 1, 0]\n",
            "176 [2, 0, 1, 1, 2]\n",
            "178 [2, 0, 1, 2, 1]\n",
            "180 [2, 0, 2, 0, 0]\n",
            "182 [2, 0, 2, 0, 2]\n",
            "184 [2, 0, 2, 1, 1]\n",
            "186 [2, 0, 2, 2, 0]\n",
            "188 [2, 0, 2, 2, 2]\n",
            "190 [2, 1, 0, 0, 1]\n",
            "192 [2, 1, 0, 1, 0]\n",
            "194 [2, 1, 0, 1, 2]\n",
            "196 [2, 1, 0, 2, 1]\n",
            "198 [2, 1, 1, 0, 0]\n"
          ]
        }
      ]
    }
  ]
}